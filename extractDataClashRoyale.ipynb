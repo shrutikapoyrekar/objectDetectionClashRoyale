{
  "nbformat": 4,
  "nbformat_minor": 0,
  "metadata": {
    "colab": {
      "name": "extractDataClashRoyale.ipynb",
      "provenance": [],
      "collapsed_sections": [],
      "authorship_tag": "ABX9TyOJVpSep/yRV1OTbeVmJ69A",
      "include_colab_link": true
    },
    "kernelspec": {
      "name": "python3",
      "display_name": "Python 3"
    },
    "language_info": {
      "name": "python"
    }
  },
  "cells": [
    {
      "cell_type": "markdown",
      "metadata": {
        "id": "view-in-github",
        "colab_type": "text"
      },
      "source": [
        "<a href=\"https://colab.research.google.com/github/shrutikapoyrekar/objectDetectionClashRoyale/blob/main/extractDataClashRoyale.ipynb\" target=\"_parent\"><img src=\"https://colab.research.google.com/assets/colab-badge.svg\" alt=\"Open In Colab\"/></a>"
      ]
    },
    {
      "cell_type": "code",
      "execution_count": null,
      "metadata": {
        "id": "9x8rNuczJBpD",
        "colab": {
          "base_uri": "https://localhost:8080/"
        },
        "outputId": "afce828c-b76c-495e-aa70-d5ef10898552"
      },
      "outputs": [
        {
          "output_type": "stream",
          "name": "stdout",
          "text": [
            "Mounted at /content/drive\n"
          ]
        }
      ],
      "source": [
        "\"\"\"\n",
        "data is saved in my drive, mounting google drive for access\n",
        "\"\"\"\n",
        "\n",
        "from google.colab import drive\n",
        "drive.mount(\"/content/drive\")"
      ]
    },
    {
      "cell_type": "code",
      "source": [
        "\"\"\"\n",
        "This is the base path of all the data\n",
        "\"\"\"\n",
        "path=\"/content/drive/MyDrive/sampledata/objectDetection/clashRoyale/\""
      ],
      "metadata": {
        "id": "86EiBDXzJ3Ns"
      },
      "execution_count": null,
      "outputs": []
    },
    {
      "cell_type": "code",
      "source": [
        "\"\"\"\n",
        "Load the annotations and convert to cocoFormat\n",
        "\"\"\"\n",
        "import pandas as pd\n",
        "df=pd.read_csv(path+\"annotations.csv\")"
      ],
      "metadata": {
        "id": "Fxl2KUngLgak"
      },
      "execution_count": null,
      "outputs": []
    },
    {
      "cell_type": "code",
      "source": [
        "def extractData(annotationsPath):\n",
        "\n",
        "    df=pd.read_csv(annotationsPath)\n",
        "    category={'prince':0,'executioner':1}\n",
        "    groups = df.groupby([\"name\"])\n",
        "    count=0\n",
        "    annotation_id=0\n",
        "    allAnnotations=[]\n",
        "    images=[]\n",
        "    testImages=[]\n",
        "    testAnnotations=[]\n",
        "    for name, group in groups:\n",
        "        #print(\"\\n\",name)\n",
        "        imageInfo= {\"height\": 0,\"width\": 0,\"id\": count,\"file_name\":name }\n",
        "        count+=1\n",
        "        for i, row in group.iterrows():\n",
        "            imageInfo[\"height\"]=row[\"image_heigh\"]\n",
        "            imageInfo[\"width\"]=row[\"image_width\"]\n",
        "\n",
        "            annotate = {\n",
        "                        \"segmentation\": [],\n",
        "                        \"iscrowd\": 0,\n",
        "                        \"area\": imageInfo[\"height\"]*imageInfo[\"width\"],\n",
        "                        \"image_id\": imageInfo[\"id\"],\n",
        "                        \"bbox\": [\n",
        "                            row[\"x\"],\n",
        "                            row[\"y\"],\n",
        "                            row[\"width\"],\n",
        "                            row[\"height\"]\n",
        "                        ],\n",
        "                        \"category_id\": category[row[\"Object\"]],    #we have only one category over here thats why hardcoding\n",
        "                        \"id\": str(annotation_id)\n",
        "                        }\n",
        "            allAnnotations.append(annotate)\n",
        "\n",
        "\n",
        "            #print(\"image_id: \",count,\" annotation_id: \",annotation_id,\" x: \",row[\"x\"],\" y: \",row[\"y\"]+\" width: \",row[\"width\"],\" height: \",row[\"height\"])\n",
        "            annotation_id+=1\n",
        "        images.append(imageInfo)\n",
        "\n",
        "    categories=[]\n",
        "    for c in category:\n",
        "        cat={\n",
        "            \"supercategory\": \"Card\",\n",
        "            \"id\": category[c],\n",
        "            \"name\": c\n",
        "        }\n",
        "        categories.append(cat)\n",
        "    \n",
        "    trainVal= {\"images\":images,\"categories\":categories,\"annotations\":allAnnotations}\n",
        "    return trainVal"
      ],
      "metadata": {
        "id": "hQq4SWzaf8DX"
      },
      "execution_count": null,
      "outputs": []
    },
    {
      "cell_type": "code",
      "source": [
        "trainVal=extractData(path+\"annotations.csv\")"
      ],
      "metadata": {
        "id": "CRfd7mm8N5qo"
      },
      "execution_count": null,
      "outputs": []
    },
    {
      "cell_type": "code",
      "source": [
        "len(trainVal[\"images\"])"
      ],
      "metadata": {
        "id": "5zXBCNYYvpHQ",
        "colab": {
          "base_uri": "https://localhost:8080/"
        },
        "outputId": "7caca85e-804d-44fc-c5eb-a0dc818e2bf9"
      },
      "execution_count": null,
      "outputs": [
        {
          "output_type": "execute_result",
          "data": {
            "text/plain": [
              "27"
            ]
          },
          "metadata": {},
          "execution_count": 23
        }
      ]
    },
    {
      "cell_type": "code",
      "source": [
        "import json\n",
        "with open(path+\"trainVal.json\", \"w\") as outfile:\n",
        "    outfile.write(json.dumps(trainVal))"
      ],
      "metadata": {
        "id": "l6BJMthvu3DO"
      },
      "execution_count": null,
      "outputs": []
    },
    {
      "cell_type": "code",
      "source": [
        ""
      ],
      "metadata": {
        "id": "YNQB0Qgf2UUH"
      },
      "execution_count": null,
      "outputs": []
    }
  ]
}